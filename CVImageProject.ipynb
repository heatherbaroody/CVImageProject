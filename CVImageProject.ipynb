{
 "cells": [
  {
   "cell_type": "markdown",
   "metadata": {},
   "source": [
    "# Image classification machine learning algorithm\n",
    "## Platinum cyclic voltammetry scan facet detection through image classification\n",
    "\n",
    "Developed by: Heather Baroody and Tasleem Muzaffar\n",
    "17 May 2018\n",
    "\n",
    "This is a general image classification model that is trained to distingush between four distinct Platinum cyclic voltammetry scans for different surface facets: Pt(111), Pt(110), Pt(100), and polycrystalline Pt.  This was developed during this 2018 ECS Data Hack Week in Seattle so the goal is to develop a simple model in the short amount of time we have and expand it later. "
   ]
  },
  {
   "cell_type": "code",
   "execution_count": 2,
   "metadata": {},
   "outputs": [
    {
     "name": "stderr",
     "output_type": "stream",
     "text": [
      "/Users/heatherbaroody/miniconda3/envs/ECStutorial/lib/python2.7/site-packages/matplotlib/font_manager.py:273: UserWarning: Matplotlib is building the font cache using fc-list. This may take a moment.\n",
      "  warnings.warn('Matplotlib is building the font cache using fc-list. This may take a moment.')\n"
     ]
    }
   ],
   "source": [
    "# Import necessary packages\n",
    "import numpy as np\n",
    "import matplotlib.pyplot as plt\n",
    "from scipy import misc\n",
    "from sklearn.decomposition import PCA\n",
    "from PIL import Image"
   ]
  },
  {
   "cell_type": "markdown",
   "metadata": {},
   "source": [
    "### Visualizing the data\n",
    "\n",
    "The data sets were created by extracting Pt(jkl) CV data point from a variety of literature studies, creating standardized .jpg plots of the same dimensions. This way the training data is standarized and the goal is for any CV to eventually work for an input."
   ]
  },
  {
   "cell_type": "code",
   "execution_count": 48,
   "metadata": {},
   "outputs": [
    {
     "name": "stdout",
     "output_type": "stream",
     "text": [
      "[[255 255 255 ..., 255 255 255]\n",
      " [255 255 255 ..., 255 255 255]\n",
      " [255 255 255 ..., 255 255 255]\n",
      " ..., \n",
      " [255 255 255 ..., 255 255 255]\n",
      " [255 255 255 ..., 255 255 255]\n",
      " [255 255 255 ..., 255 255 255]]\n"
     ]
    }
   ],
   "source": [
    "#img = Image.open('cvdatatest.png').convert('RGBA')\n",
    "img = Image.open(\"pt111-1.jpg\").convert('I')\n",
    "arr = np.array(img)\n",
    "arr.shape\n",
    "imgrs = img.resize((100, 100))\n",
    "arrrs = np.array(imgrs)\n",
    "#arrrs.shape\n",
    "print (arrrs)\n",
    "imgrs.show()\n"
   ]
  },
  {
   "cell_type": "markdown",
   "metadata": {},
   "source": [
    "### Collect and clean the data\n",
    "Loop through and convert all images to array"
   ]
  },
  {
   "cell_type": "code",
   "execution_count": 182,
   "metadata": {},
   "outputs": [
    {
     "name": "stdout",
     "output_type": "stream",
     "text": [
      "(29, 100, 100)\n",
      "[[255 255 255 ..., 255 255 255]\n",
      " [255 255 255 ..., 255 255 255]\n",
      " [255 255 255 ..., 255 255 255]\n",
      " ..., \n",
      " [255 255 255 ..., 255 255 255]\n",
      " [255 255 255 ..., 255 255 255]\n",
      " [255 255 255 ..., 255 255 255]]\n"
     ]
    }
   ],
   "source": [
    "#Image files\n",
    "\n",
    "#Pt(111) convert to grayscale\n",
    "Pt_111_01 = Image.open(\"pt111-1.jpg\").convert('I')\n",
    "Pt_111_02 = Image.open(\"pt111-2.jpg\").convert('I')\n",
    "Pt_111_03 = Image.open(\"pt111-3.jpg\").convert('I')\n",
    "Pt_111_04 = Image.open(\"pt111-4.jpg\").convert('I')\n",
    "Pt_111_05 = Image.open(\"pt111-5.jpg\").convert('I')\n",
    "Pt_111_06 = Image.open(\"pt111-6.jpg\").convert('I')\n",
    "Pt_111_07 = Image.open(\"pt111-7.jpg\").convert('I')\n",
    "Pt_111_08 = Image.open(\"pt111-8.jpg\").convert('I')\n",
    "Pt_111_09 = Image.open(\"pt111-9.jpg\").convert('I')\n",
    "#Pt_111_10 = Image.open(\"pt111-10.jpg\").convert('I')\n",
    "Pt_111_11 = Image.open(\"pt111-11.jpg\").convert('I')\n",
    "Pt_111_12 = Image.open(\"pt111-12.jpg\").convert('I')\n",
    "\n",
    "#Pt(110)\n",
    "Pt_110_01 = Image.open(\"pt110-1.jpg\").convert('I')\n",
    "Pt_110_02 = Image.open(\"pt110-2.jpg\").convert('I')\n",
    "Pt_110_03 = Image.open(\"pt110-3.jpg\").convert('I')\n",
    "Pt_110_04 = Image.open(\"pt110-4.jpg\").convert('I')\n",
    "Pt_110_05 = Image.open(\"pt110-5.jpg\").convert('I')\n",
    "Pt_110_06 = Image.open(\"pt110-6.jpg\").convert('I')\n",
    "\n",
    "#Pt(100)\n",
    "Pt_100_01 = Image.open(\"pt100-1.jpg\").convert('I')\n",
    "Pt_100_02 = Image.open(\"pt100-2.jpg\").convert('I')\n",
    "Pt_100_03 = Image.open(\"pt100-3.jpg\").convert('I')\n",
    "Pt_100_04 = Image.open(\"pt100-4.jpg\").convert('I')\n",
    "Pt_100_05 = Image.open(\"pt100-5.jpg\").convert('I')\n",
    "Pt_100_06 = Image.open(\"pt100-6.jpg\").convert('I')\n",
    "\n",
    "#Pt(poly)\n",
    "Pt_poly_01 = Image.open(\"ptpoly-1.jpg\").convert('I')\n",
    "Pt_poly_02 = Image.open(\"ptpoly-2.jpg\").convert('I')\n",
    "Pt_poly_03 = Image.open(\"ptpoly-3.jpg\").convert('I')\n",
    "Pt_poly_04 = Image.open(\"ptpoly-4.jpg\").convert('I')\n",
    "Pt_poly_05 = Image.open(\"ptpoly-5.jpg\").convert('I')\n",
    "Pt_poly_06 = Image.open(\"ptpoly-6.jpg\").convert('I')\n",
    "\n",
    "\n",
    "images = [Pt_111_01, Pt_111_02, Pt_111_03, Pt_111_04, \n",
    "         Pt_111_05, Pt_111_06, Pt_111_07, Pt_111_08, \n",
    "         Pt_111_09, Pt_111_11, Pt_111_12, Pt_110_01,\n",
    "         Pt_110_02, Pt_110_03, Pt_110_04, Pt_110_05,Pt_110_06, Pt_100_01,\n",
    "         Pt_100_02, Pt_100_03, Pt_100_04, Pt_100_05, Pt_100_06, Pt_poly_01,\n",
    "         Pt_poly_02, Pt_poly_03, Pt_poly_04, Pt_poly_05, Pt_poly_06]\n",
    "\n",
    "#resize image files\n",
    "image_rs = []\n",
    "\n",
    "for i in images:\n",
    "    image_rs.append(i.resize((100, 100)))\n",
    "\n",
    "#convert to array\n",
    "image_ar = []\n",
    "for j in image_rs:\n",
    "    image_ar.append(np.array(j))\n",
    "\n",
    "image_ar = np.array(image_ar)\n",
    "print(image_ar.shape)\n",
    "\n",
    "print(image_ar[1])\n",
    "#image_rs[1].show()"
   ]
  },
  {
   "cell_type": "code",
   "execution_count": 183,
   "metadata": {},
   "outputs": [
    {
     "data": {
      "text/plain": [
       "(29, 10000)"
      ]
     },
     "execution_count": 183,
     "metadata": {},
     "output_type": "execute_result"
    }
   ],
   "source": [
    "data = np.reshape(image_ar, (29, 10000))\n",
    "data.shape"
   ]
  },
  {
   "cell_type": "code",
   "execution_count": 184,
   "metadata": {},
   "outputs": [
    {
     "name": "stdout",
     "output_type": "stream",
     "text": [
      "(29,)\n"
     ]
    }
   ],
   "source": [
    "#Define target values\n",
    "\n",
    "target = np.array([0,0,0,0,0,0,0,0,0,0,0,1,1,1,1,1,1,2,2,2,2,2,2,3,3,3,3,3,3])\n",
    "\n",
    "facet = ['Pt (111)', 'Pt(110)', 'Pt(100)', 'Pt(poly)']\n",
    "print(target.shape)"
   ]
  },
  {
   "cell_type": "markdown",
   "metadata": {},
   "source": [
    "Split data"
   ]
  },
  {
   "cell_type": "code",
   "execution_count": 185,
   "metadata": {},
   "outputs": [
    {
     "name": "stdout",
     "output_type": "stream",
     "text": [
      "((21, 10000), (8, 10000))\n"
     ]
    }
   ],
   "source": [
    "from sklearn.model_selection import train_test_split\n",
    "Xtrain, Xtest, ytrain, ytest = train_test_split(data, target,\n",
    "                                                random_state=2)\n",
    "print(Xtrain.shape, Xtest.shape)"
   ]
  },
  {
   "cell_type": "markdown",
   "metadata": {},
   "source": [
    "Use Logistic regression"
   ]
  },
  {
   "cell_type": "code",
   "execution_count": 186,
   "metadata": {},
   "outputs": [],
   "source": [
    "from sklearn.linear_model import LogisticRegression\n",
    "clf = LogisticRegression(penalty='l2')\n",
    "clf.fit(Xtrain, ytrain)\n",
    "ypred = clf.predict(Xtest)"
   ]
  },
  {
   "cell_type": "markdown",
   "metadata": {},
   "source": [
    "Check accuracy score"
   ]
  },
  {
   "cell_type": "code",
   "execution_count": 187,
   "metadata": {},
   "outputs": [
    {
     "data": {
      "text/plain": [
       "0.875"
      ]
     },
     "execution_count": 187,
     "metadata": {},
     "output_type": "execute_result"
    }
   ],
   "source": [
    "from sklearn.metrics import accuracy_score\n",
    "accuracy_score(ytest, ypred)"
   ]
  },
  {
   "cell_type": "markdown",
   "metadata": {},
   "source": [
    "Test other classifier"
   ]
  },
  {
   "cell_type": "code",
   "execution_count": 205,
   "metadata": {},
   "outputs": [
    {
     "name": "stdout",
     "output_type": "stream",
     "text": [
      "Pt(110)\n"
     ]
    },
    {
     "name": "stderr",
     "output_type": "stream",
     "text": [
      "/Users/heatherbaroody/miniconda3/envs/ECStutorial/lib/python2.7/site-packages/ipykernel_launcher.py:16: VisibleDeprecationWarning: converting an array with ndim > 0 to an index will result in an error in the future\n",
      "  app.launch_new_instance()\n"
     ]
    },
    {
     "data": {
      "text/plain": [
       "array([[ 0. ,  0.8,  0.2,  0. ]])"
      ]
     },
     "execution_count": 205,
     "metadata": {},
     "output_type": "execute_result"
    }
   ],
   "source": [
    "from sklearn import neighbors\n",
    "\n",
    "# create the model\n",
    "knn = neighbors.KNeighborsClassifier(n_neighbors=5)\n",
    "\n",
    "# fit the model\n",
    "knn.fit(data, target)\n",
    "\n",
    "\n",
    "test = np.array([data[13]])\n",
    "test.shape\n",
    "usertest = clf.predict(test)\n",
    "\n",
    "result = knn.predict(test)\n",
    "\n",
    "print(facet[result])\n",
    "\n",
    "knn.predict_proba(test)"
   ]
  },
  {
   "cell_type": "code",
   "execution_count": 197,
   "metadata": {},
   "outputs": [
    {
     "name": "stdout",
     "output_type": "stream",
     "text": [
      "Pt(poly)\n"
     ]
    },
    {
     "name": "stderr",
     "output_type": "stream",
     "text": [
      "/Users/heatherbaroody/miniconda3/envs/ECStutorial/lib/python2.7/site-packages/ipykernel_launcher.py:5: VisibleDeprecationWarning: converting an array with ndim > 0 to an index will result in an error in the future\n",
      "  \"\"\"\n"
     ]
    },
    {
     "data": {
      "text/plain": [
       "array([[  9.67636715e-05,   1.68009941e-05,   1.91527434e-05,\n",
       "          9.99867283e-01]])"
      ]
     },
     "execution_count": 197,
     "metadata": {},
     "output_type": "execute_result"
    }
   ],
   "source": [
    "test = np.array([data[25]])\n",
    "test.shape\n",
    "usertest = clf.predict(test)\n",
    "\n",
    "print (facet[usertest])\n",
    "#clf.predict_proba(test)\n"
   ]
  },
  {
   "cell_type": "markdown",
   "metadata": {},
   "source": [
    "Confusion Matrix"
   ]
  },
  {
   "cell_type": "code",
   "execution_count": 190,
   "metadata": {},
   "outputs": [
    {
     "name": "stdout",
     "output_type": "stream",
     "text": [
      "[[4 0 0 0]\n",
      " [0 1 1 0]\n",
      " [0 0 1 0]\n",
      " [0 0 0 1]]\n"
     ]
    }
   ],
   "source": [
    "from sklearn.metrics import confusion_matrix\n",
    "print(confusion_matrix(ytest, ypred))"
   ]
  },
  {
   "cell_type": "code",
   "execution_count": 191,
   "metadata": {},
   "outputs": [
    {
     "name": "stderr",
     "output_type": "stream",
     "text": [
      "/Users/heatherbaroody/miniconda3/envs/ECStutorial/lib/python2.7/site-packages/ipykernel_launcher.py:1: RuntimeWarning: divide by zero encountered in log\n",
      "  \"\"\"Entry point for launching an IPython kernel.\n"
     ]
    },
    {
     "data": {
      "image/png": "[encoded data removed]",
      "text/plain": [
       "<matplotlib.figure.Figure at 0x1a07a7c850>"
      ]
     },
     "metadata": {},
     "output_type": "display_data"
    }
   ],
   "source": [
    "plt.imshow(np.log(confusion_matrix(ytest, ypred)),\n",
    "           cmap='Blues', interpolation='nearest')\n",
    "plt.grid(False)\n",
    "plt.ylabel('true')\n",
    "plt.xlabel('predicted');"
   ]
  },
  {
   "cell_type": "code",
   "execution_count": 157,
   "metadata": {},
   "outputs": [
    {
     "ename": "ValueError",
     "evalue": "total size of new array must be unchanged",
     "output_type": "error",
     "traceback": [
      "\u001b[0;31m---------------------------------------------------------------------------\u001b[0m",
      "\u001b[0;31mValueError\u001b[0m                                Traceback (most recent call last)",
      "\u001b[0;32m<ipython-input-157-22cfb48c60fe>\u001b[0m in \u001b[0;36m<module>\u001b[0;34m()\u001b[0m\n\u001b[1;32m      3\u001b[0m \u001b[0;34m\u001b[0m\u001b[0m\n\u001b[1;32m      4\u001b[0m \u001b[0;32mfor\u001b[0m \u001b[0mi\u001b[0m\u001b[0;34m,\u001b[0m \u001b[0max\u001b[0m \u001b[0;32min\u001b[0m \u001b[0menumerate\u001b[0m\u001b[0;34m(\u001b[0m\u001b[0maxes\u001b[0m\u001b[0;34m.\u001b[0m\u001b[0mflat\u001b[0m\u001b[0;34m)\u001b[0m\u001b[0;34m:\u001b[0m\u001b[0;34m\u001b[0m\u001b[0m\n\u001b[0;32m----> 5\u001b[0;31m     \u001b[0max\u001b[0m\u001b[0;34m.\u001b[0m\u001b[0mimshow\u001b[0m\u001b[0;34m(\u001b[0m\u001b[0mXtest\u001b[0m\u001b[0;34m[\u001b[0m\u001b[0mi\u001b[0m\u001b[0;34m]\u001b[0m\u001b[0;34m.\u001b[0m\u001b[0mreshape\u001b[0m\u001b[0;34m(\u001b[0m\u001b[0;36m8\u001b[0m\u001b[0;34m,\u001b[0m \u001b[0;36m8\u001b[0m\u001b[0;34m)\u001b[0m\u001b[0;34m,\u001b[0m \u001b[0mcmap\u001b[0m\u001b[0;34m=\u001b[0m\u001b[0;34m'binary'\u001b[0m\u001b[0;34m)\u001b[0m\u001b[0;34m\u001b[0m\u001b[0m\n\u001b[0m\u001b[1;32m      6\u001b[0m     ax.text(0.05, 0.05, str(ypred[i]),\n\u001b[1;32m      7\u001b[0m             \u001b[0mtransform\u001b[0m\u001b[0;34m=\u001b[0m\u001b[0max\u001b[0m\u001b[0;34m.\u001b[0m\u001b[0mtransAxes\u001b[0m\u001b[0;34m,\u001b[0m\u001b[0;34m\u001b[0m\u001b[0m\n",
      "\u001b[0;31mValueError\u001b[0m: total size of new array must be unchanged"
     ]
    },
    {
     "data": {
      "image/png": "[encoded data removed]",
      "text/plain": [
       "<matplotlib.figure.Figure at 0x1a0806dd10>"
      ]
     },
     "metadata": {},
     "output_type": "display_data"
    }
   ],
   "source": [
    "fig, axes = plt.subplots(2,3, figsize=(8, 8))\n",
    "fig.subplots_adjust(hspace=0.1, wspace=0.1)\n",
    "\n",
    "for i, ax in enumerate(axes.flat):\n",
    "    ax.imshow(Xtest[i].reshape(8, 8), cmap='binary')\n",
    "    ax.text(0.05, 0.05, str(ypred[i]),\n",
    "            transform=ax.transAxes,\n",
    "            color='green' if (ytest[i] == ypred[i]) else 'red')\n",
    "    ax.set_xticks([])\n",
    "    ax.set_yticks([])"
   ]
  },
  {
   "cell_type": "code",
   "execution_count": null,
   "metadata": {},
   "outputs": [],
   "source": []
  }
 ],
 "metadata": {
  "kernelspec": {
   "display_name": "Python 2",
   "language": "python",
   "name": "python2"
  },
  "language_info": {
   "codemirror_mode": {
    "name": "ipython",
    "version": 2
   },
   "file_extension": ".py",
   "mimetype": "text/x-python",
   "name": "python",
   "nbconvert_exporter": "python",
   "pygments_lexer": "ipython2",
   "version": "2.7.15"
  }
 },
 "nbformat": 4,
 "nbformat_minor": 2
}
