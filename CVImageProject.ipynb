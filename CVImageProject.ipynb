{
 "cells": [
  {
   "cell_type": "markdown",
   "metadata": {},
   "source": [
    "# Image classification machine learning algorithm\n",
    "## Platinum cyclic voltammetry scan facet detection through image classification\n",
    "\n",
    "Developed by: Heather Baroody and Tasleem Muzaffar\n",
    "17 May 2018\n",
    "\n",
    "This is a general image classification model that is trained to distingush between four distinct Platinum cyclic voltammetry scans for different surface facets: Pt(111), Pt(110), Pt(100), and polycrystalline Pt.  This was developed during this 2018 ECS Data Hack Week in Seattle so the goal is to develop a simple model in the short amount of time we have and expand it later. "
   ]
  },
  {
   "cell_type": "code",
   "execution_count": 322,
   "metadata": {},
   "outputs": [],
   "source": [
    "# Import necessary packages\n",
    "import numpy as np\n",
    "import matplotlib.pyplot as plt\n",
    "from scipy import misc\n",
    "from sklearn.decomposition import PCA\n",
    "from PIL import Image"
   ]
  },
  {
   "cell_type": "markdown",
   "metadata": {},
   "source": [
    "### Pre - Image proccessing of test image\n",
    "\n",
    "The inital data sets were created by extracting Pt(jkl) CV data point from a variety of literature studies as a principal of proof. The images are standardized by converting the .jpg to grayscale and resizing. In the future the goal is to use actual images of CV scans in literature with the hope of having >50 images per Pt facet."
   ]
  },
  {
   "cell_type": "code",
   "execution_count": 323,
   "metadata": {},
   "outputs": [
    {
     "name": "stdout",
     "output_type": "stream",
     "text": [
      "[[255 255 255 ..., 255 255 255]\n",
      " [255 255 255 ..., 255 255 255]\n",
      " [255 255 255 ..., 255 255 255]\n",
      " ..., \n",
      " [255 255 255 ..., 255 255 255]\n",
      " [255 255 255 ..., 255 255 255]\n",
      " [255 255 255 ..., 255 255 255]]\n"
     ]
    }
   ],
   "source": [
    "img = Image.open(\"ptpoly-test.jpg\").convert('I')\n",
    "arr = np.array(img)\n",
    "arr.shape\n",
    "test_img = img.resize((120, 120))\n",
    "arrrs = np.array(imgrs)\n",
    "print (arrrs)\n",
    "test_img.show()"
   ]
  },
  {
   "cell_type": "markdown",
   "metadata": {},
   "source": [
    "## Building the Model\n",
    "### Image Processing\n",
    "Loop through and process all images in for training/test set and convert to a matrix with number of rows = number of samples."
   ]
  },
  {
   "cell_type": "code",
   "execution_count": 324,
   "metadata": {},
   "outputs": [
    {
     "name": "stdout",
     "output_type": "stream",
     "text": [
      "(27, 120, 120)\n"
     ]
    }
   ],
   "source": [
    "files = []\n",
    "num111 = 8\n",
    "num110 = 6\n",
    "num100 = 6\n",
    "numpoly = 7\n",
    "l1 = ['111','110','100','poly']\n",
    "l2=[num111, num110, num100, numpoly]\n",
    "for j in range(len(l1)):\n",
    "    for i in range(l2[j]):\n",
    "        files.append(\"pt{}-{}.jpg\".format(l1[j],i+1))\n",
    "\n",
    "images = []\n",
    "for file in files:\n",
    "    images.append(Image.open(file).convert('I'))\n",
    "\n",
    "#resize image files\n",
    "x_pix = 120\n",
    "y_pix = 120\n",
    "image_rs = []\n",
    "\n",
    "for i in images:\n",
    "    image_rs.append(i.resize((x_pix, y_pix)))\n",
    "\n",
    "#convert to array\n",
    "image_ar = []\n",
    "for j in image_rs:\n",
    "    image_ar.append(np.array(j))\n",
    "\n",
    "image_ar = np.array(image_ar)\n",
    "print(image_ar.shape)\n",
    "images[25].show()"
   ]
  },
  {
   "cell_type": "code",
   "execution_count": 325,
   "metadata": {},
   "outputs": [
    {
     "data": {
      "text/plain": [
       "(27, 14400)"
      ]
     },
     "execution_count": 325,
     "metadata": {},
     "output_type": "execute_result"
    }
   ],
   "source": [
    "# resize matrix for use in algorithm\n",
    "dim = np.dot(image_ar.shape[1],image_ar.shape[2])\n",
    "data = np.reshape(image_ar, (image_ar.shape[0], dim))\n",
    "data.shape"
   ]
  },
  {
   "cell_type": "markdown",
   "metadata": {},
   "source": [
    "### Define target values\n",
    "Create the vector of target values that correlate to the data and corresponding target names."
   ]
  },
  {
   "cell_type": "code",
   "execution_count": 326,
   "metadata": {},
   "outputs": [
    {
     "name": "stdout",
     "output_type": "stream",
     "text": [
      "[ 0.  0.  0.  0.  0.  0.  0.  0.  1.  1.  1.  1.  1.  1.  2.  2.  2.  2.\n",
      "  2.  2.  3.  3.  3.  3.  3.  3.  3.]\n",
      "(27,)\n"
     ]
    }
   ],
   "source": [
    "#Define target values\n",
    "Pt111_index = np.zeros((1,num111))\n",
    "Pt110_index = np.ones((1,num110))\n",
    "Pt100_index = 2*np.ones((1,num100))\n",
    "Ptpoly_index = 3*np.ones((1,numpoly))\n",
    "\n",
    "target = np.concatenate((Pt111_index,Pt110_index,Pt100_index,Ptpoly_index),axis=1)\n",
    "target = target.reshape(data.shape[0],)\n",
    "print(target)\n",
    "\n",
    "facet = ['Pt (111)', 'Pt(110)', 'Pt(100)', 'Pt(poly)']\n",
    "print(target.shape)"
   ]
  },
  {
   "cell_type": "markdown",
   "metadata": {},
   "source": [
    "### Split data into training set and validation set"
   ]
  },
  {
   "cell_type": "code",
   "execution_count": 315,
   "metadata": {},
   "outputs": [
    {
     "name": "stdout",
     "output_type": "stream",
     "text": [
      "((20, 14400), (7, 14400))\n"
     ]
    }
   ],
   "source": [
    "from sklearn.model_selection import train_test_split\n",
    "Xtrain, Xtest, ytrain, ytest = train_test_split(data, target,\n",
    "                                                random_state=2)\n",
    "print(Xtrain.shape, Xtest.shape)"
   ]
  },
  {
   "cell_type": "markdown",
   "metadata": {},
   "source": [
    "## Applying and comparing alogorithms\n",
    "Train data on various learning algorithms then test for accuracy.\n",
    "### 1 - Logistic regression"
   ]
  },
  {
   "cell_type": "code",
   "execution_count": 316,
   "metadata": {},
   "outputs": [],
   "source": [
    "from sklearn.linear_model import LogisticRegression\n",
    "clf = LogisticRegression(penalty='l2')\n",
    "clf.fit(Xtrain, ytrain)\n",
    "ypred = clf.predict(Xtest)"
   ]
  },
  {
   "cell_type": "markdown",
   "metadata": {},
   "source": [
    "Check accuracy score"
   ]
  },
  {
   "cell_type": "code",
   "execution_count": 317,
   "metadata": {},
   "outputs": [
    {
     "data": {
      "text/plain": [
       "0.8571428571428571"
      ]
     },
     "execution_count": 317,
     "metadata": {},
     "output_type": "execute_result"
    }
   ],
   "source": [
    "from sklearn.metrics import accuracy_score\n",
    "accuracy_score(ytest, ypred)"
   ]
  },
  {
   "cell_type": "markdown",
   "metadata": {},
   "source": [
    "### Test model"
   ]
  },
  {
   "cell_type": "code",
   "execution_count": 329,
   "metadata": {},
   "outputs": [
    {
     "name": "stdout",
     "output_type": "stream",
     "text": [
      "Pt(poly)\n"
     ]
    }
   ],
   "source": [
    "test = np.array(test_img)\n",
    "dimt = np.dot(test.shape[0],test.shape[1])\n",
    "test = np.reshape(test, (1, dimt))\n",
    "usertest = clf.predict(test)\n",
    "usertest = np.int(usertest)\n",
    "print (facet[usertest])"
   ]
  },
  {
   "cell_type": "markdown",
   "metadata": {},
   "source": [
    "### 2 - K nearest neighbors classifier"
   ]
  },
  {
   "cell_type": "code",
   "execution_count": 335,
   "metadata": {},
   "outputs": [
    {
     "name": "stdout",
     "output_type": "stream",
     "text": [
      "Pt(poly)\n"
     ]
    },
    {
     "data": {
      "text/plain": [
       "array([[ 0.,  0.,  0.,  1.]])"
      ]
     },
     "execution_count": 335,
     "metadata": {},
     "output_type": "execute_result"
    }
   ],
   "source": [
    "from sklearn import neighbors\n",
    "\n",
    "# create the model\n",
    "knn = neighbors.KNeighborsClassifier(n_neighbors=3)\n",
    "\n",
    "# fit the model\n",
    "knn.fit(data, target)\n",
    "\n",
    "\n",
    "test = np.array(test)\n",
    "test.shape\n",
    "usertest = clf.predict(test)\n",
    "\n",
    "result = knn.predict(test)\n",
    "\n",
    "print(facet[np.int(result)])\n",
    "\n",
    "knn.predict_proba(test)"
   ]
  },
  {
   "cell_type": "markdown",
   "metadata": {},
   "source": [
    "Check accuracy score"
   ]
  },
  {
   "cell_type": "code",
   "execution_count": 336,
   "metadata": {},
   "outputs": [
    {
     "data": {
      "text/plain": [
       "0.92592592592592593"
      ]
     },
     "execution_count": 336,
     "metadata": {},
     "output_type": "execute_result"
    }
   ],
   "source": [
    "knn.score(data, target, sample_weight=None)"
   ]
  },
  {
   "cell_type": "markdown",
   "metadata": {},
   "source": [
    "### 3 - unsupervised Isomap"
   ]
  },
  {
   "cell_type": "code",
   "execution_count": 337,
   "metadata": {},
   "outputs": [
    {
     "data": {
      "text/plain": [
       "(27, 2)"
      ]
     },
     "execution_count": 337,
     "metadata": {},
     "output_type": "execute_result"
    }
   ],
   "source": [
    "from sklearn.manifold import Isomap\n",
    "iso = Isomap(n_components=2)\n",
    "data_projected = iso.fit_transform(data)\n",
    "data_projected.shape"
   ]
  },
  {
   "cell_type": "code",
   "execution_count": 338,
   "metadata": {},
   "outputs": [
    {
     "data": {
      "image/png": "[encoded data removed]",
      "text/plain": [
       "<matplotlib.figure.Figure at 0x1a1e108b90>"
      ]
     },
     "metadata": {},
     "output_type": "display_data"
    }
   ],
   "source": [
    "plt.scatter(data_projected[:, 0], data_projected[:, 1], c=target,\n",
    "            edgecolor='none', alpha=1, cmap=plt.cm.get_cmap('nipy_spectral', 4));\n",
    "plt.colorbar(label='target values', ticks=range(4))\n",
    "plt.clim(-0.5, 3.5)"
   ]
  },
  {
   "cell_type": "markdown",
   "metadata": {},
   "source": [
    "## Model Accuracy visulaization"
   ]
  },
  {
   "cell_type": "code",
   "execution_count": 351,
   "metadata": {},
   "outputs": [
    {
     "name": "stdout",
     "output_type": "stream",
     "text": [
      "(7, 14400)\n",
      "7\n",
      "[<PIL.Image.Image image mode=I size=200x200 at 0x1A1E168F80>, <PIL.Image.Image image mode=I size=200x200 at 0x1A1E16D710>, <PIL.Image.Image image mode=I size=200x200 at 0x1A0E958830>, <PIL.Image.Image image mode=I size=200x200 at 0x1A0E958128>, <PIL.Image.Image image mode=I size=200x200 at 0x1A0E958368>, <PIL.Image.Image image mode=I size=200x200 at 0x10A600290>, <PIL.Image.Image image mode=I size=200x200 at 0x10A6005A8>]\n"
     ]
    },
    {
     "ename": "TypeError",
     "evalue": "list indices must be integers, not numpy.float64",
     "output_type": "error",
     "traceback": [
      "\u001b[0;31m---------------------------------------------------------------------------\u001b[0m",
      "\u001b[0;31mTypeError\u001b[0m                                 Traceback (most recent call last)",
      "\u001b[0;32m<ipython-input-351-07cf541e1561>\u001b[0m in \u001b[0;36m<module>\u001b[0;34m()\u001b[0m\n\u001b[1;32m     37\u001b[0m \u001b[0;32mfor\u001b[0m \u001b[0ml\u001b[0m\u001b[0;34m,\u001b[0m \u001b[0max\u001b[0m \u001b[0;32min\u001b[0m \u001b[0menumerate\u001b[0m\u001b[0;34m(\u001b[0m\u001b[0maxes\u001b[0m\u001b[0;34m.\u001b[0m\u001b[0mflat\u001b[0m\u001b[0;34m)\u001b[0m\u001b[0;34m:\u001b[0m\u001b[0;34m\u001b[0m\u001b[0m\n\u001b[1;32m     38\u001b[0m     \u001b[0max\u001b[0m\u001b[0;34m.\u001b[0m\u001b[0mimshow\u001b[0m\u001b[0;34m(\u001b[0m\u001b[0mtest_img_rs\u001b[0m\u001b[0;34m[\u001b[0m\u001b[0ml\u001b[0m\u001b[0;34m]\u001b[0m\u001b[0;34m,\u001b[0m \u001b[0mcmap\u001b[0m\u001b[0;34m=\u001b[0m\u001b[0;34m'binary'\u001b[0m\u001b[0;34m)\u001b[0m\u001b[0;34m\u001b[0m\u001b[0m\n\u001b[0;32m---> 39\u001b[0;31m     ax.text(0.1, 0.1, str(facet[ypred[l]]),\n\u001b[0m\u001b[1;32m     40\u001b[0m             \u001b[0mtransform\u001b[0m\u001b[0;34m=\u001b[0m\u001b[0max\u001b[0m\u001b[0;34m.\u001b[0m\u001b[0mtransAxes\u001b[0m\u001b[0;34m,\u001b[0m\u001b[0;34m\u001b[0m\u001b[0m\n\u001b[1;32m     41\u001b[0m             color='green' if (ytest[l] == ypred[l]) else 'red')\n",
      "\u001b[0;31mTypeError\u001b[0m: list indices must be integers, not numpy.float64"
     ]
    },
    {
     "data": {
      "image/png": "[encoded data removed]",
      "text/plain": [
       "<matplotlib.figure.Figure at 0x1a1895bb90>"
      ]
     },
     "metadata": {},
     "output_type": "display_data"
    }
   ],
   "source": [
    "print(Xtest.shape)\n",
    "print(len(Xtest))\n",
    "Xtest_rs = []\n",
    "\n",
    "for i in Xtest:\n",
    "    Xtest_rs.append(i.reshape(x_pix,y_pix))\n",
    "\n",
    "test_img = []\n",
    "for j in Xtest_rs:\n",
    "    test_img.append(Image.fromarray(j, 'I'))\n",
    "\n",
    "#test_img[2].show()\n",
    "\n",
    "##\n",
    "#x_tpix = 100\n",
    "#y_tpix = 100\n",
    "#\n",
    "#test_img_rs= test_img[1].resize((x_tpix, y_tpix))\n",
    "#test_img_rs.show()\n",
    "\n",
    "x_tpix = 200\n",
    "y_tpix = 200\n",
    "test_img_rs = []\n",
    "for k in test_img:\n",
    "    test_img_rs.append(k.resize((x_tpix, y_tpix)))\n",
    "\n",
    "print(test_img_rs)\n",
    "#img = Image.fromarray(Xtest_rs[0], 'I')\n",
    "#img.save('my.png')\n",
    "#test_img_rs[4].show()\n",
    "#Xtestresize = Xtest.resize((100, 100))\n",
    "\n",
    "fig, axes = plt.subplots(3,2)\n",
    "fig.subplots_adjust(hspace=0.1, wspace=0.1)\n",
    "#, figsize=(x_tpix, y_tpix)\n",
    "\n",
    "for l, ax in enumerate(axes.flat):\n",
    "    ax.imshow(test_img_rs[l], cmap='binary')\n",
    "    ax.text(0.1, 0.1, str(ypred[l]),\n",
    "            transform=ax.transAxes,\n",
    "            color='green' if (ytest[l] == ypred[l]) else 'red')\n",
    "    ax.set_xticks([])\n",
    "    ax.set_yticks([])"
   ]
  },
  {
   "cell_type": "markdown",
   "metadata": {},
   "source": [
    "### Confusion Matrix"
   ]
  },
  {
   "cell_type": "code",
   "execution_count": 340,
   "metadata": {},
   "outputs": [
    {
     "name": "stdout",
     "output_type": "stream",
     "text": [
      "[[1 0 0 1]\n",
      " [0 2 0 0]\n",
      " [0 0 1 0]\n",
      " [0 0 0 2]]\n"
     ]
    }
   ],
   "source": [
    "from sklearn.metrics import confusion_matrix\n",
    "print(confusion_matrix(ytest, ypred))"
   ]
  },
  {
   "cell_type": "code",
   "execution_count": 341,
   "metadata": {},
   "outputs": [
    {
     "name": "stderr",
     "output_type": "stream",
     "text": [
      "/Users/heatherbaroody/miniconda3/envs/ECStutorial/lib/python2.7/site-packages/ipykernel_launcher.py:1: RuntimeWarning: divide by zero encountered in log\n",
      "  \"\"\"Entry point for launching an IPython kernel.\n"
     ]
    },
    {
     "data": {
      "image/png": "[encoded data removed]",
      "text/plain": [
       "<matplotlib.figure.Figure at 0x1a1e108510>"
      ]
     },
     "metadata": {},
     "output_type": "display_data"
    }
   ],
   "source": [
    "plt.imshow(np.log(confusion_matrix(ytest, ypred)),\n",
    "           cmap='Blues', interpolation='nearest')\n",
    "plt.grid(False)\n",
    "plt.ylabel('true')\n",
    "plt.xlabel('predicted');"
   ]
  },
  {
   "cell_type": "code",
   "execution_count": null,
   "metadata": {},
   "outputs": [],
   "source": []
  }
 ],
 "metadata": {
  "kernelspec": {
   "display_name": "Python 2",
   "language": "python",
   "name": "python2"
  },
  "language_info": {
   "codemirror_mode": {
    "name": "ipython",
    "version": 2
   },
   "file_extension": ".py",
   "mimetype": "text/x-python",
   "name": "python",
   "nbconvert_exporter": "python",
   "pygments_lexer": "ipython2",
   "version": "2.7.15"
  }
 },
 "nbformat": 4,
 "nbformat_minor": 2
}
