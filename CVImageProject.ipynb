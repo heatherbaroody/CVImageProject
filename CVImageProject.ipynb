{
 "cells": [
  {
   "cell_type": "markdown",
   "metadata": {},
   "source": [
    "# Image classification machine learning algorithm\n",
    "## Platinum cyclic voltammetry scan facet detection through image classification\n",
    "\n",
    "Developed by: Heather Baroody and Tasleem Muzaffar\n",
    "17 May 2018\n",
    "\n",
    "This is a general image classification model that is trained to distingush between four distinct Platinum cyclic voltammetry scans for different surface facets: Pt(111), Pt(110), Pt(100), and polycrystalline Pt.  This was developed during this 2018 ECS Data Hack Week in Seattle so the goal is to develop a simple model in the short amount of time we have and expand it later. "
   ]
  },
  {
   "cell_type": "code",
   "execution_count": 1,
   "metadata": {},
   "outputs": [],
   "source": [
    "# Import necessary packages\n",
    "import numpy as np\n",
    "import matplotlib.pyplot as plt\n",
    "from scipy import misc\n",
    "from sklearn.decomposition import PCA\n",
    "from PIL import Image"
   ]
  },
  {
   "cell_type": "markdown",
   "metadata": {},
   "source": [
    "### Pre - Image proccessing and standardizing data\n",
    "\n",
    "The inital data sets were created by extracting Pt(jkl) CV data point from a variety of literature studies as a principal of proof. The images are standardized by converting the .jpg to grayscale and resizing. In the future the goal is to use actual images of CV scans in literature with the hope of having >50 images per Pt facet."
   ]
  },
  {
   "cell_type": "code",
   "execution_count": 2,
   "metadata": {},
   "outputs": [
    {
     "name": "stdout",
     "output_type": "stream",
     "text": [
      "[[255 255 255 ..., 255 255 255]\n",
      " [255 255 255 ..., 255 255 255]\n",
      " [255 255 255 ..., 255 255 255]\n",
      " ..., \n",
      " [255 255 255 ..., 255 255 255]\n",
      " [255 255 255 ..., 255 255 255]\n",
      " [255 255 255 ..., 255 255 255]]\n"
     ]
    }
   ],
   "source": [
    "img = Image.open(\"pt111-1.jpg\").convert('I')\n",
    "arr = np.array(img)\n",
    "arr.shape\n",
    "imgrs = img.resize((100, 100))\n",
    "arrrs = np.array(imgrs)\n",
    "print (arrrs)\n",
    "imgrs.show()"
   ]
  },
  {
   "cell_type": "markdown",
   "metadata": {},
   "source": [
    "## Building the Model\n",
    "### Processing the entire training/test set\n",
    "Loop through and process all images in for training/test set and convert to a matrix with number of rows = number of samples."
   ]
  },
  {
   "cell_type": "code",
   "execution_count": 3,
   "metadata": {},
   "outputs": [
    {
     "name": "stdout",
     "output_type": "stream",
     "text": [
      "(29, 100, 100)\n"
     ]
    }
   ],
   "source": [
    "#Image files\n",
    "\n",
    "#Pt(111) convert to grayscale\n",
    "Pt_111_01 = Image.open(\"pt111-1.jpg\").convert('I')\n",
    "Pt_111_02 = Image.open(\"pt111-2.jpg\").convert('I')\n",
    "Pt_111_03 = Image.open(\"pt111-3.jpg\").convert('I')\n",
    "Pt_111_04 = Image.open(\"pt111-4.jpg\").convert('I')\n",
    "Pt_111_05 = Image.open(\"pt111-5.jpg\").convert('I')\n",
    "Pt_111_06 = Image.open(\"pt111-6.jpg\").convert('I')\n",
    "Pt_111_07 = Image.open(\"pt111-7.jpg\").convert('I')\n",
    "Pt_111_08 = Image.open(\"pt111-8.jpg\").convert('I')\n",
    "Pt_111_09 = Image.open(\"pt111-9.jpg\").convert('I')\n",
    "#Pt_111_10 = Image.open(\"pt111-10.jpg\").convert('I')\n",
    "Pt_111_11 = Image.open(\"pt111-11.jpg\").convert('I')\n",
    "Pt_111_12 = Image.open(\"pt111-12.jpg\").convert('I')\n",
    "\n",
    "#Pt(110)\n",
    "Pt_110_01 = Image.open(\"pt110-1.jpg\").convert('I')\n",
    "Pt_110_02 = Image.open(\"pt110-2.jpg\").convert('I')\n",
    "Pt_110_03 = Image.open(\"pt110-3.jpg\").convert('I')\n",
    "Pt_110_04 = Image.open(\"pt110-4.jpg\").convert('I')\n",
    "Pt_110_05 = Image.open(\"pt110-5.jpg\").convert('I')\n",
    "Pt_110_06 = Image.open(\"pt110-6.jpg\").convert('I')\n",
    "\n",
    "#Pt(100)\n",
    "Pt_100_01 = Image.open(\"pt100-1.jpg\").convert('I')\n",
    "Pt_100_02 = Image.open(\"pt100-2.jpg\").convert('I')\n",
    "Pt_100_03 = Image.open(\"pt100-3.jpg\").convert('I')\n",
    "Pt_100_04 = Image.open(\"pt100-4.jpg\").convert('I')\n",
    "Pt_100_05 = Image.open(\"pt100-5.jpg\").convert('I')\n",
    "Pt_100_06 = Image.open(\"pt100-6.jpg\").convert('I')\n",
    "\n",
    "#Pt(poly)\n",
    "Pt_poly_01 = Image.open(\"ptpoly-1.jpg\").convert('I')\n",
    "Pt_poly_02 = Image.open(\"ptpoly-2.jpg\").convert('I')\n",
    "Pt_poly_03 = Image.open(\"ptpoly-3.jpg\").convert('I')\n",
    "Pt_poly_04 = Image.open(\"ptpoly-4.jpg\").convert('I')\n",
    "Pt_poly_05 = Image.open(\"ptpoly-5.jpg\").convert('I')\n",
    "Pt_poly_06 = Image.open(\"ptpoly-6.jpg\").convert('I')\n",
    "\n",
    "\n",
    "images = [Pt_111_01, Pt_111_02, Pt_111_03, Pt_111_04, \n",
    "         Pt_111_05, Pt_111_06,  Pt_111_07,Pt_111_08, \n",
    "         Pt_111_09, Pt_111_11, Pt_111_12, Pt_110_01,\n",
    "         Pt_110_02, Pt_110_03, Pt_110_04, Pt_110_05,Pt_110_06, Pt_100_01,\n",
    "         Pt_100_02, Pt_100_03, Pt_100_04, Pt_100_05, Pt_100_06, Pt_poly_01,\n",
    "         Pt_poly_02, Pt_poly_03, Pt_poly_04, Pt_poly_05, Pt_poly_06]\n",
    "\n",
    "#resize image files\n",
    "x_pix = 100\n",
    "y_pix = 100\n",
    "image_rs = []\n",
    "\n",
    "for i in images:\n",
    "    image_rs.append(i.resize((x_pix, y_pix)))\n",
    "\n",
    "\n",
    "#convert to array\n",
    "image_ar = []\n",
    "for j in image_rs:\n",
    "    image_ar.append(np.array(j))\n",
    "\n",
    "image_ar = np.array(image_ar)\n",
    "print(image_ar.shape)"
   ]
  },
  {
   "cell_type": "code",
   "execution_count": 4,
   "metadata": {},
   "outputs": [
    {
     "data": {
      "text/plain": [
       "(29, 10000)"
      ]
     },
     "execution_count": 4,
     "metadata": {},
     "output_type": "execute_result"
    }
   ],
   "source": [
    "# resize matrix for use in algorithm\n",
    "dim = np.dot(image_ar.shape[1],image_ar.shape[2])\n",
    "data = np.reshape(image_ar, (image_ar.shape[0], dim))\n",
    "data.shape"
   ]
  },
  {
   "cell_type": "markdown",
   "metadata": {},
   "source": [
    "### Define target values\n",
    "Create the vector of target values that correlate to the data and corresponding target names."
   ]
  },
  {
   "cell_type": "code",
   "execution_count": 5,
   "metadata": {},
   "outputs": [
    {
     "name": "stdout",
     "output_type": "stream",
     "text": [
      "(29,)\n"
     ]
    }
   ],
   "source": [
    "#Define target values\n",
    "target = np.array([0,0,0,0,0,0,0,0,0,0,0,1,1,1,1,1,1,2,2,2,2,2,2,3,3,3,3,3,3])\n",
    "\n",
    "facet = ['Pt (111)', 'Pt(110)', 'Pt(100)', 'Pt(poly)']\n",
    "print(target.shape)"
   ]
  },
  {
   "cell_type": "markdown",
   "metadata": {},
   "source": [
    "Split data into training set and test set"
   ]
  },
  {
   "cell_type": "code",
   "execution_count": 6,
   "metadata": {},
   "outputs": [
    {
     "name": "stdout",
     "output_type": "stream",
     "text": [
      "((21, 10000), (8, 10000))\n"
     ]
    }
   ],
   "source": [
    "from sklearn.model_selection import train_test_split\n",
    "Xtrain, Xtest, ytrain, ytest = train_test_split(data, target,\n",
    "                                                random_state=2)\n",
    "print(Xtrain.shape, Xtest.shape)"
   ]
  },
  {
   "cell_type": "markdown",
   "metadata": {},
   "source": [
    "## Applying and comparing various learning alogorithms\n",
    "### 1 - Logistic regression"
   ]
  },
  {
   "cell_type": "code",
   "execution_count": 7,
   "metadata": {},
   "outputs": [],
   "source": [
    "from sklearn.linear_model import LogisticRegression\n",
    "clf = LogisticRegression(penalty='l2')\n",
    "clf.fit(Xtrain, ytrain)\n",
    "ypred = clf.predict(Xtest)"
   ]
  },
  {
   "cell_type": "markdown",
   "metadata": {},
   "source": [
    "Check accuracy score"
   ]
  },
  {
   "cell_type": "code",
   "execution_count": 8,
   "metadata": {},
   "outputs": [
    {
     "data": {
      "text/plain": [
       "0.875"
      ]
     },
     "execution_count": 8,
     "metadata": {},
     "output_type": "execute_result"
    }
   ],
   "source": [
    "from sklearn.metrics import accuracy_score\n",
    "accuracy_score(ytest, ypred)"
   ]
  },
  {
   "cell_type": "markdown",
   "metadata": {},
   "source": [
    "Validate model"
   ]
  },
  {
   "cell_type": "code",
   "execution_count": 9,
   "metadata": {},
   "outputs": [
    {
     "name": "stdout",
     "output_type": "stream",
     "text": [
      "Pt(poly)\n"
     ]
    },
    {
     "name": "stderr",
     "output_type": "stream",
     "text": [
      "/Users/heatherbaroody/miniconda3/envs/ECStutorial/lib/python2.7/site-packages/ipykernel_launcher.py:5: VisibleDeprecationWarning: converting an array with ndim > 0 to an index will result in an error in the future\n",
      "  \"\"\"\n"
     ]
    }
   ],
   "source": [
    "test = np.array([data[25]])\n",
    "test.shape\n",
    "usertest = clf.predict(test)\n",
    "\n",
    "print (facet[usertest])\n",
    "#clf.predict_proba(test)"
   ]
  },
  {
   "cell_type": "markdown",
   "metadata": {},
   "source": [
    "### 2 - K nearest neighbors classifier"
   ]
  },
  {
   "cell_type": "code",
   "execution_count": 10,
   "metadata": {},
   "outputs": [
    {
     "name": "stdout",
     "output_type": "stream",
     "text": [
      "Pt(110)\n"
     ]
    },
    {
     "name": "stderr",
     "output_type": "stream",
     "text": [
      "/Users/heatherbaroody/miniconda3/envs/ECStutorial/lib/python2.7/site-packages/ipykernel_launcher.py:16: VisibleDeprecationWarning: converting an array with ndim > 0 to an index will result in an error in the future\n",
      "  app.launch_new_instance()\n"
     ]
    },
    {
     "data": {
      "text/plain": [
       "array([[ 0. ,  0.8,  0.2,  0. ]])"
      ]
     },
     "execution_count": 10,
     "metadata": {},
     "output_type": "execute_result"
    }
   ],
   "source": [
    "from sklearn import neighbors\n",
    "\n",
    "# create the model\n",
    "knn = neighbors.KNeighborsClassifier(n_neighbors=5)\n",
    "\n",
    "# fit the model\n",
    "knn.fit(data, target)\n",
    "\n",
    "\n",
    "test = np.array([data[13]])\n",
    "test.shape\n",
    "usertest = clf.predict(test)\n",
    "\n",
    "result = knn.predict(test)\n",
    "\n",
    "print(facet[result])\n",
    "\n",
    "knn.predict_proba(test)"
   ]
  },
  {
   "cell_type": "markdown",
   "metadata": {},
   "source": [
    "Check accuracy score"
   ]
  },
  {
   "cell_type": "code",
   "execution_count": 11,
   "metadata": {},
   "outputs": [
    {
     "data": {
      "text/plain": [
       "0.82758620689655171"
      ]
     },
     "execution_count": 11,
     "metadata": {},
     "output_type": "execute_result"
    }
   ],
   "source": [
    "knn.score(data, target, sample_weight=None)"
   ]
  },
  {
   "cell_type": "markdown",
   "metadata": {},
   "source": [
    "### 3 - unsupervised Isomap"
   ]
  },
  {
   "cell_type": "code",
   "execution_count": 12,
   "metadata": {},
   "outputs": [
    {
     "data": {
      "text/plain": [
       "(29, 2)"
      ]
     },
     "execution_count": 12,
     "metadata": {},
     "output_type": "execute_result"
    }
   ],
   "source": [
    "from sklearn.manifold import Isomap\n",
    "iso = Isomap(n_components=2)\n",
    "data_projected = iso.fit_transform(data)\n",
    "data_projected.shape"
   ]
  },
  {
   "cell_type": "code",
   "execution_count": 13,
   "metadata": {},
   "outputs": [
    {
     "data": {
      "image/png": "[encoded data removed]",
      "text/plain": [
       "<matplotlib.figure.Figure at 0x10e6a6410>"
      ]
     },
     "metadata": {},
     "output_type": "display_data"
    }
   ],
   "source": [
    "plt.scatter(data_projected[:, 0], data_projected[:, 1], c=target,\n",
    "            edgecolor='none', alpha=1, cmap=plt.cm.get_cmap('nipy_spectral', 4));\n",
    "plt.colorbar(label='target values', ticks=range(4))\n",
    "plt.clim(-0.5, 3.5)"
   ]
  },
  {
   "cell_type": "markdown",
   "metadata": {},
   "source": [
    "## Model Accuracy visulaization"
   ]
  },
  {
   "cell_type": "code",
   "execution_count": null,
   "metadata": {},
   "outputs": [],
   "source": [
    "fig, axes = plt.subplots(1,2, figsize=(image_ar.shape[1], image_ar.shape[2]))\n",
    "fig.subplots_adjust(hspace=0.1, wspace=0.1)\n",
    "\n",
    "for i, ax in enumerate(axes.flat):\n",
    "    ax.imshow(Xtest[i].reshape(image_ar.shape[1], image_ar.shape[2]), cmap='binary')\n",
    "    ax.text(10, 10, str(ypred[i]),\n",
    "            transform=ax.transAxes,\n",
    "            color='green' if (ytest[i] == ypred[i]) else 'red')\n",
    "    ax.set_xticks([])\n",
    "    ax.set_yticks([])"
   ]
  },
  {
   "cell_type": "code",
   "execution_count": null,
   "metadata": {},
   "outputs": [],
   "source": []
  }
 ],
 "metadata": {
  "kernelspec": {
   "display_name": "Python 2",
   "language": "python",
   "name": "python2"
  },
  "language_info": {
   "codemirror_mode": {
    "name": "ipython",
    "version": 2
   },
   "file_extension": ".py",
   "mimetype": "text/x-python",
   "name": "python",
   "nbconvert_exporter": "python",
   "pygments_lexer": "ipython2",
   "version": "2.7.15"
  }
 },
 "nbformat": 4,
 "nbformat_minor": 2
}
